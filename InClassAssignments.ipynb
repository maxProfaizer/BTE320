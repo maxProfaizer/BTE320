{
  "nbformat": 4,
  "nbformat_minor": 0,
  "metadata": {
    "colab": {
      "provenance": [],
      "authorship_tag": "ABX9TyNB2p8VRQXrcyC+ee6xlhxU",
      "include_colab_link": true
    },
    "kernelspec": {
      "name": "python3",
      "display_name": "Python 3"
    },
    "language_info": {
      "name": "python"
    }
  },
  "cells": [
    {
      "cell_type": "markdown",
      "metadata": {
        "id": "view-in-github",
        "colab_type": "text"
      },
      "source": [
        "<a href=\"https://colab.research.google.com/github/maxProfaizer/BTE320/blob/main/InClassAssignments.ipynb\" target=\"_parent\"><img src=\"https://colab.research.google.com/assets/colab-badge.svg\" alt=\"Open In Colab\"/></a>"
      ]
    },
    {
      "cell_type": "code",
      "execution_count": null,
      "metadata": {
        "colab": {
          "base_uri": "https://localhost:8080/"
        },
        "id": "PFLYKdXiyjCS",
        "outputId": "457c07ed-e1ed-46dc-b383-845e0a9dc42b"
      },
      "outputs": [
        {
          "output_type": "stream",
          "name": "stdout",
          "text": [
            "244.92000000000002\n"
          ]
        }
      ],
      "source": [
        "r = 3\n",
        "h = 10\n",
        "pi = 3.14\n",
        "\n",
        "area = (2*pi*(r**2))+(2*pi*r*h)\n",
        "\n",
        "print(area)"
      ]
    },
    {
      "cell_type": "code",
      "source": [
        "#Rock, paper, scissors game\n",
        "\n",
        "player1 = input(\"Enter your move player 1: \")\n",
        "player2 = input(\"Enter your move player 2: \")\n",
        "\n",
        "if player1 == player2:\n",
        "  print(\"Draw\")\n",
        "\n",
        "elif player1 == \"rock\" and player2 == \"scissors\":\n",
        "  print(\"Player1 wins\")\n",
        "\n",
        "elif player1 == \"scissors\" and player2 ==\"paper\":\n",
        "  print(\"Player1 wins\")\n",
        "\n",
        "elif player1 == \"paper\" and player2 ==\"rock\":\n",
        "  print(\"Player1 wins\")\n",
        "\n",
        "else:\n",
        "  print(\"Player2 wins\")\n",
        "\n"
      ],
      "metadata": {
        "id": "Imn5JaXTzrG9",
        "colab": {
          "base_uri": "https://localhost:8080/"
        },
        "outputId": "30f9cc96-6aea-43e5-d685-414bed0ee88d"
      },
      "execution_count": null,
      "outputs": [
        {
          "output_type": "stream",
          "name": "stdout",
          "text": [
            "Enter your move player 1: win\n",
            "Enter your move player 2: wib\n",
            "Player2 wins\n"
          ]
        }
      ]
    },
    {
      "cell_type": "code",
      "source": [
        "#Rock, paper, scissors game\n",
        "\n",
        "player1 = input(\"Enter your move player 1: \")\n",
        "player2 = input(\"Enter your move player 2: \")\n",
        "\n",
        "if player1 == player2:\n",
        "  print(\"Draw\")\n",
        "\n",
        "elif player1 == \"rock\" and player2 == \"scissors\" or player1 == \"scissors\" and player2 ==\"paper\" or player1 == \"paper\" and player2 ==\"rock\" :\n",
        "  print(\"Player1 wins\")\n",
        "\n",
        "else:\n",
        "  print(\"Player2 wins\")"
      ],
      "metadata": {
        "id": "IzJDNWILUqf9",
        "colab": {
          "base_uri": "https://localhost:8080/"
        },
        "outputId": "6229f2e3-cccb-46bf-f05c-ba89ba19eceb"
      },
      "execution_count": null,
      "outputs": [
        {
          "output_type": "stream",
          "name": "stdout",
          "text": [
            "Enter your move player 1: rock\n",
            "Enter your move player 2: paper\n",
            "Player2 wins\n"
          ]
        }
      ]
    },
    {
      "cell_type": "code",
      "source": [
        "#write code for a numerical calculator\n",
        "\n",
        "number1 = float(input(\"enter a number: \"))\n",
        "number2 = float(input(\"enter a number: \"))\n",
        "symbol = input(\"enter a numerical operation: \")\n",
        "\n",
        "\n",
        "if symbol == \"**\":\n",
        "  result = number1 ** number2\n",
        "  print(f'number1 ** number2 = {result}')\n",
        "\n",
        "elif symbol == \"*\":\n",
        "  result = number1 * number2\n",
        "  print(f'number1 * number2 = {result}')\n",
        "\n",
        "elif symbol == \"//\":\n",
        "  result = number1 // number2\n",
        "  print(f'number1 // number2 = {result}')\n",
        "\n",
        "elif symbol == \"/\":\n",
        "  result = number1 / number2\n",
        "  print(f'number1 / number2 = {result}')\n",
        "\n",
        "elif symbol == \"+\":\n",
        "  result = number1 + number2\n",
        "  print(f'number1 + number2 = {result}')\n",
        "\n",
        "elif symbol == \"-\":\n",
        "  result = number1 - number2\n",
        "  print(f'number1 - number2 = {result}')\n",
        "\n",
        "elif symbol == \"%\":\n",
        "  result = number1 % number2\n",
        "  print(f'number1 % number2 = {result}')\n",
        "\n",
        "else:\n",
        "  print(\"enter a valid operator\")\n",
        "\n"
      ],
      "metadata": {
        "colab": {
          "base_uri": "https://localhost:8080/"
        },
        "id": "gZM7Dms69I-D",
        "outputId": "00497fe1-ded4-4c1b-8fcc-49dbf2c33683"
      },
      "execution_count": 17,
      "outputs": [
        {
          "output_type": "stream",
          "name": "stdout",
          "text": [
            "enter a number: 7\n",
            "enter a number: 9\n",
            "enter a numerical operation: +\n",
            "number1 + number2 = 16.0\n"
          ]
        }
      ]
    }
  ]
}