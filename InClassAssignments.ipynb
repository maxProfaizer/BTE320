{
  "nbformat": 4,
  "nbformat_minor": 0,
  "metadata": {
    "colab": {
      "provenance": [],
      "authorship_tag": "ABX9TyMugXIiMMPW2npK6jVHgM5h",
      "include_colab_link": true
    },
    "kernelspec": {
      "name": "python3",
      "display_name": "Python 3"
    },
    "language_info": {
      "name": "python"
    }
  },
  "cells": [
    {
      "cell_type": "markdown",
      "metadata": {
        "id": "view-in-github",
        "colab_type": "text"
      },
      "source": [
        "<a href=\"https://colab.research.google.com/github/maxProfaizer/BTE320/blob/main/InClassAssignments.ipynb\" target=\"_parent\"><img src=\"https://colab.research.google.com/assets/colab-badge.svg\" alt=\"Open In Colab\"/></a>"
      ]
    },
    {
      "cell_type": "code",
      "execution_count": null,
      "metadata": {
        "colab": {
          "base_uri": "https://localhost:8080/"
        },
        "id": "PFLYKdXiyjCS",
        "outputId": "457c07ed-e1ed-46dc-b383-845e0a9dc42b"
      },
      "outputs": [
        {
          "output_type": "stream",
          "name": "stdout",
          "text": [
            "244.92000000000002\n"
          ]
        }
      ],
      "source": [
        "r = 3\n",
        "h = 10\n",
        "pi = 3.14\n",
        "\n",
        "area = (2*pi*(r**2))+(2*pi*r*h)\n",
        "\n",
        "print(area)"
      ]
    },
    {
      "cell_type": "code",
      "source": [
        "#Rock, paper, scissors game\n",
        "\n",
        "player1 = input(\"Enter your move player 1: \")\n",
        "player2 = input(\"Enter your move player 2: \")\n",
        "\n",
        "if player1 == player2:\n",
        "  print(\"Draw\")\n",
        "\n",
        "elif player1 == \"rock\" and player2 == \"scissors\":\n",
        "  print(\"Player1 wins\")\n",
        "\n",
        "elif player1 == \"scissors\" and player2 ==\"paper\":\n",
        "  print(\"Player1 wins\")\n",
        "\n",
        "elif player1 == \"paper\" and player2 ==\"rock\":\n",
        "  print(\"Player1 wins\")\n",
        "\n",
        "else:\n",
        "  print(\"Player2 wins\")\n",
        "\n"
      ],
      "metadata": {
        "id": "Imn5JaXTzrG9",
        "colab": {
          "base_uri": "https://localhost:8080/"
        },
        "outputId": "30f9cc96-6aea-43e5-d685-414bed0ee88d"
      },
      "execution_count": null,
      "outputs": [
        {
          "output_type": "stream",
          "name": "stdout",
          "text": [
            "Enter your move player 1: win\n",
            "Enter your move player 2: wib\n",
            "Player2 wins\n"
          ]
        }
      ]
    },
    {
      "cell_type": "code",
      "source": [
        "#Rock, paper, scissors game\n",
        "\n",
        "player1 = input(\"Enter your move player 1: \")\n",
        "player2 = input(\"Enter your move player 2: \")\n",
        "\n",
        "if player1 == player2:\n",
        "  print(\"Draw\")\n",
        "\n",
        "elif player1 == \"rock\" and player2 == \"scissors\" or player1 == \"scissors\" and player2 ==\"paper\" or player1 == \"paper\" and player2 ==\"rock\" :\n",
        "  print(\"Player1 wins\")\n",
        "\n",
        "else:\n",
        "  print(\"Player2 wins\")"
      ],
      "metadata": {
        "id": "IzJDNWILUqf9",
        "colab": {
          "base_uri": "https://localhost:8080/"
        },
        "outputId": "a0b5616b-e2c0-408b-e3d1-ed971a4d72d1"
      },
      "execution_count": null,
      "outputs": [
        {
          "output_type": "stream",
          "name": "stdout",
          "text": [
            "Enter your move player 1: rock\n",
            "Enter your move player 2: paper\n",
            "Player2 wins\n"
          ]
        }
      ]
    },
    {
      "cell_type": "code",
      "source": [
        "#write code for a numerical calculator\n",
        "\n",
        "number1 = float(input(\"enter a number: \"))\n",
        "number2 = float(input(\"enter a number: \"))\n",
        "symbol = input(\"enter a numerical operation: \")\n",
        "\n",
        "\n",
        "if symbol == \"**\":\n",
        "  result = number1 ** number2\n",
        "  print(f'number1 ** number2 = {result}')\n",
        "\n",
        "elif symbol == \"*\":\n",
        "  result = number1 * number2\n",
        "  print(f'number1 * number2 = {result}')\n",
        "\n",
        "elif symbol == \"//\":\n",
        "  result = number1 // number2\n",
        "  print(f'number1 // number2 = {result}')\n",
        "\n",
        "elif symbol == \"/\":\n",
        "  result = number1 / number2\n",
        "  print(f'number1 / number2 = {result}')\n",
        "\n",
        "elif symbol == \"+\":\n",
        "  result = number1 + number2\n",
        "  print(f'number1 + number2 = {result}')\n",
        "\n",
        "elif symbol == \"-\":\n",
        "  result = number1 - number2\n",
        "  print(f'number1 - number2 = {result}')\n",
        "\n",
        "elif symbol == \"%\":\n",
        "  result = number1 % number2\n",
        "  print(f'number1 % number2 = {result}')\n",
        "\n",
        "else:\n",
        "  print(\"enter a valid operator\")\n",
        "\n"
      ],
      "metadata": {
        "colab": {
          "base_uri": "https://localhost:8080/"
        },
        "id": "gZM7Dms69I-D",
        "outputId": "00497fe1-ded4-4c1b-8fcc-49dbf2c33683"
      },
      "execution_count": null,
      "outputs": [
        {
          "output_type": "stream",
          "name": "stdout",
          "text": [
            "enter a number: 7\n",
            "enter a number: 9\n",
            "enter a numerical operation: +\n",
            "number1 + number2 = 16.0\n"
          ]
        }
      ]
    },
    {
      "cell_type": "code",
      "source": [
        "#Rock, paper, scissors game using while loop\n",
        "\n",
        "play = input('Do you want to play: ')\n",
        "\n",
        "while play == 'yes':\n",
        "  player1 = input(\"Enter your move player 1: \")\n",
        "  player2 = input(\"Enter your move player 2: \")\n",
        "\n",
        "  if player1 == player2:\n",
        "    print(\"Draw\")\n",
        "\n",
        "  elif player1 == \"rock\" and player2 == \"scissors\" or player1 == \"scissors\" and player2 ==\"paper\" or player1 == \"paper\" and player2 ==\"rock\" :\n",
        "    print(\"Player1 wins\")\n",
        "\n",
        "  else:\n",
        "    print(\"Player2 wins\")\n",
        "\n",
        "  play = input('Do you want to play: ')\n",
        "\n"
      ],
      "metadata": {
        "id": "GPfTHKdVIBlj",
        "colab": {
          "base_uri": "https://localhost:8080/"
        },
        "outputId": "484b8d1e-0855-449d-c858-ae61617a6eaf"
      },
      "execution_count": 9,
      "outputs": [
        {
          "name": "stdout",
          "output_type": "stream",
          "text": [
            "Do you want to play: yes\n",
            "Enter your move player 1: rock\n",
            "Enter your move player 2: scissors\n",
            "Player1 wins\n",
            "Do you want to play: yes\n",
            "Enter your move player 1: paper\n",
            "Enter your move player 2: rock\n",
            "Player1 wins\n",
            "Do you want to play: no\n"
          ]
        }
      ]
    },
    {
      "cell_type": "code",
      "source": [
        "#Rock, paper, scissors game using while loop and computer\n",
        "import random\n",
        "\n",
        "play = input('Do you want to play: ')\n",
        "\n",
        "while play == 'yes':\n",
        "  player1 = input(\"Enter your move player 1: \")\n",
        "  player2 = random.choice(['rock','paper','scissors'])\n",
        "  print(\"Compueter plays: \", player2)\n",
        "\n",
        "  if player1 == player2:\n",
        "    print(\"Draw\")\n",
        "\n",
        "  elif player1 == \"rock\" and player2 == \"scissors\" or player1 == \"scissors\" and player2 ==\"paper\" or player1 == \"paper\" and player2 ==\"rock\" :\n",
        "    print(\"Player1 wins\")\n",
        "\n",
        "  else:\n",
        "    print(\"Computer wins\")\n",
        "\n",
        "  play = input('Do you want to play another game: ')\n",
        "print('Have a nice day')"
      ],
      "metadata": {
        "colab": {
          "base_uri": "https://localhost:8080/"
        },
        "id": "K3tjyotjCDtf",
        "outputId": "495859d2-b8ab-40e0-f73c-c9e9e45b7b1b"
      },
      "execution_count": 18,
      "outputs": [
        {
          "name": "stdout",
          "output_type": "stream",
          "text": [
            "Do you want to play: yes\n",
            "Enter your move player 1: rock\n",
            "Compueter plays:  scissor\n",
            "Computer wins\n",
            "Do you want to play another game: yes\n",
            "Enter your move player 1: scissors\n",
            "Compueter plays:  paper\n",
            "Player1 wins\n",
            "Do you want to play another game: no\n"
          ]
        }
      ]
    }
  ]
}