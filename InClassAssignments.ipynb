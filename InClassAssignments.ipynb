{
  "nbformat": 4,
  "nbformat_minor": 0,
  "metadata": {
    "colab": {
      "provenance": [],
      "authorship_tag": "ABX9TyOnfUPdEwJMR2Dcx6gVERUL",
      "include_colab_link": true
    },
    "kernelspec": {
      "name": "python3",
      "display_name": "Python 3"
    },
    "language_info": {
      "name": "python"
    }
  },
  "cells": [
    {
      "cell_type": "markdown",
      "metadata": {
        "id": "view-in-github",
        "colab_type": "text"
      },
      "source": [
        "<a href=\"https://colab.research.google.com/github/maxProfaizer/BTE320/blob/main/InClassAssignments.ipynb\" target=\"_parent\"><img src=\"https://colab.research.google.com/assets/colab-badge.svg\" alt=\"Open In Colab\"/></a>"
      ]
    },
    {
      "cell_type": "code",
      "execution_count": null,
      "metadata": {
        "colab": {
          "base_uri": "https://localhost:8080/"
        },
        "id": "PFLYKdXiyjCS",
        "outputId": "457c07ed-e1ed-46dc-b383-845e0a9dc42b"
      },
      "outputs": [
        {
          "output_type": "stream",
          "name": "stdout",
          "text": [
            "244.92000000000002\n"
          ]
        }
      ],
      "source": [
        "r = 3\n",
        "h = 10\n",
        "pi = 3.14\n",
        "\n",
        "area = (2*pi*(r**2))+(2*pi*r*h)\n",
        "\n",
        "print(area)"
      ]
    },
    {
      "cell_type": "code",
      "source": [
        "#Shape Area Calculator\n",
        "\n",
        "pi = 3.14\n",
        "r = 5 #radius\n",
        "c = 10 #side pf square\n",
        "h = 8 #height of cylinder\n",
        "shape = input(\"Enter a shape: \")\n",
        "\n",
        "if shape == \"circle\":\n",
        "  area = pi * r ** 2\n",
        "  print(area)\n",
        "\n",
        "elif shape == \"square\":\n",
        "  area = c ** 2\n",
        "  print(area)\n",
        "\n",
        "elif shape == \"cylinder\":\n",
        "  area = (2 * pi * r * h) + (2 * pi * r ** 2)\n",
        "  print(area)\n",
        "\n",
        "elif shape ==\"triangle\":\n",
        "  area = .5 * c * h\n",
        "  print(area)\n",
        "\n",
        "else:\n",
        "  print(\"Shape not supported\")"
      ],
      "metadata": {
        "id": "5YemIQwPwc7j"
      },
      "execution_count": null,
      "outputs": []
    },
    {
      "cell_type": "code",
      "source": [
        "#Rock, paper, scissors game\n",
        "\n",
        "player1 = input(\"Enter your move player 1: \")\n",
        "player2 = input(\"Enter your move player 2: \")\n",
        "\n",
        "if player1 == player2:\n",
        "  print(\"Draw\")\n",
        "\n",
        "elif player1 == \"rock\" and player2 == \"scissors\":\n",
        "  print(\"Player1 wins\")\n",
        "\n",
        "elif player1 == \"scissors\" and player2 ==\"paper\":\n",
        "  print(\"Player1 wins\")\n",
        "\n",
        "elif player1 == \"paper\" and player2 ==\"rock\":\n",
        "  print(\"Player1 wins\")\n",
        "\n",
        "else:\n",
        "  print(\"Player2 wins\")\n",
        "\n"
      ],
      "metadata": {
        "id": "Imn5JaXTzrG9",
        "colab": {
          "base_uri": "https://localhost:8080/"
        },
        "outputId": "30f9cc96-6aea-43e5-d685-414bed0ee88d"
      },
      "execution_count": null,
      "outputs": [
        {
          "output_type": "stream",
          "name": "stdout",
          "text": [
            "Enter your move player 1: win\n",
            "Enter your move player 2: wib\n",
            "Player2 wins\n"
          ]
        }
      ]
    },
    {
      "cell_type": "code",
      "source": [
        "#Rock, paper, scissors game\n",
        "\n",
        "player1 = input(\"Enter your move player 1: \")\n",
        "player2 = input(\"Enter your move player 2: \")\n",
        "\n",
        "if player1 == player2:\n",
        "  print(\"Draw\")\n",
        "\n",
        "elif player1 == \"rock\" and player2 == \"scissors\" or player1 == \"scissors\" and player2 ==\"paper\" or player1 == \"paper\" and player2 ==\"rock\" :\n",
        "  print(\"Player1 wins\")\n",
        "\n",
        "else:\n",
        "  print(\"Player2 wins\")"
      ],
      "metadata": {
        "id": "IzJDNWILUqf9",
        "colab": {
          "base_uri": "https://localhost:8080/"
        },
        "outputId": "a0b5616b-e2c0-408b-e3d1-ed971a4d72d1"
      },
      "execution_count": null,
      "outputs": [
        {
          "output_type": "stream",
          "name": "stdout",
          "text": [
            "Enter your move player 1: rock\n",
            "Enter your move player 2: paper\n",
            "Player2 wins\n"
          ]
        }
      ]
    },
    {
      "cell_type": "code",
      "source": [
        "#numerical calculator\n",
        "\n",
        "number1 = float(input(\"enter a number: \"))\n",
        "number2 = float(input(\"enter a number: \"))\n",
        "symbol = input(\"enter a numerical operation: \")\n",
        "\n",
        "\n",
        "if symbol == \"**\":\n",
        "  result = number1 ** number2\n",
        "  print(f'number1 ** number2 = {result}')\n",
        "\n",
        "elif symbol == \"*\":\n",
        "  result = number1 * number2\n",
        "  print(f'number1 * number2 = {result}')\n",
        "\n",
        "elif symbol == \"//\":\n",
        "  result = number1 // number2\n",
        "  print(f'number1 // number2 = {result}')\n",
        "\n",
        "elif symbol == \"/\":\n",
        "  result = number1 / number2\n",
        "  print(f'number1 / number2 = {result}')\n",
        "\n",
        "elif symbol == \"+\":\n",
        "  result = number1 + number2\n",
        "  print(f'number1 + number2 = {result}')\n",
        "\n",
        "elif symbol == \"-\":\n",
        "  result = number1 - number2\n",
        "  print(f'number1 - number2 = {result}')\n",
        "\n",
        "elif symbol == \"%\":\n",
        "  result = number1 % number2\n",
        "  print(f'number1 % number2 = {result}')\n",
        "\n",
        "else:\n",
        "  print(\"enter a valid operator\")\n",
        "\n"
      ],
      "metadata": {
        "colab": {
          "base_uri": "https://localhost:8080/"
        },
        "id": "gZM7Dms69I-D",
        "outputId": "00497fe1-ded4-4c1b-8fcc-49dbf2c33683"
      },
      "execution_count": null,
      "outputs": [
        {
          "output_type": "stream",
          "name": "stdout",
          "text": [
            "enter a number: 7\n",
            "enter a number: 9\n",
            "enter a numerical operation: +\n",
            "number1 + number2 = 16.0\n"
          ]
        }
      ]
    },
    {
      "cell_type": "code",
      "source": [
        "#Rock, paper, scissors game using while loop\n",
        "\n",
        "play = input('Do you want to play: ')\n",
        "\n",
        "while play == 'yes':\n",
        "  player1 = input(\"Enter your move player 1: \")\n",
        "  player2 = input(\"Enter your move player 2: \")\n",
        "\n",
        "  if player1 == player2:\n",
        "    print(\"Draw\")\n",
        "\n",
        "  elif player1 == \"rock\" and player2 == \"scissors\" or player1 == \"scissors\" and player2 ==\"paper\" or player1 == \"paper\" and player2 ==\"rock\" :\n",
        "    print(\"Player1 wins\")\n",
        "\n",
        "  else:\n",
        "    print(\"Player2 wins\")\n",
        "\n",
        "  play = input('Do you want to play: ')\n",
        "\n"
      ],
      "metadata": {
        "id": "GPfTHKdVIBlj",
        "colab": {
          "base_uri": "https://localhost:8080/"
        },
        "outputId": "484b8d1e-0855-449d-c858-ae61617a6eaf"
      },
      "execution_count": null,
      "outputs": [
        {
          "name": "stdout",
          "output_type": "stream",
          "text": [
            "Do you want to play: yes\n",
            "Enter your move player 1: rock\n",
            "Enter your move player 2: scissors\n",
            "Player1 wins\n",
            "Do you want to play: yes\n",
            "Enter your move player 1: paper\n",
            "Enter your move player 2: rock\n",
            "Player1 wins\n",
            "Do you want to play: no\n"
          ]
        }
      ]
    },
    {
      "cell_type": "code",
      "source": [
        "#Rock, paper, scissors game using while loop and computer\n",
        "import random\n",
        "\n",
        "play = input('Do you want to play: ')\n",
        "\n",
        "while play == 'yes':\n",
        "  player1 = input(\"Enter your move player 1: \")\n",
        "  player2 = random.choice(['rock','paper','scissors'])\n",
        "  print(\"Compueter plays: \", player2)\n",
        "\n",
        "  if player1 == player2:\n",
        "    print(\"Draw\")\n",
        "\n",
        "  elif player1 == \"rock\" and player2 == \"scissors\" or player1 == \"scissors\" and player2 ==\"paper\" or player1 == \"paper\" and player2 ==\"rock\" :\n",
        "    print(\"Player1 wins\")\n",
        "\n",
        "  else:\n",
        "    print(\"Computer wins\")\n",
        "\n",
        "  play = input('Do you want to play another game: ')\n",
        "print('Have a nice day')"
      ],
      "metadata": {
        "colab": {
          "base_uri": "https://localhost:8080/"
        },
        "id": "K3tjyotjCDtf",
        "outputId": "495859d2-b8ab-40e0-f73c-c9e9e45b7b1b"
      },
      "execution_count": null,
      "outputs": [
        {
          "name": "stdout",
          "output_type": "stream",
          "text": [
            "Do you want to play: yes\n",
            "Enter your move player 1: rock\n",
            "Compueter plays:  scissor\n",
            "Computer wins\n",
            "Do you want to play another game: yes\n",
            "Enter your move player 1: scissors\n",
            "Compueter plays:  paper\n",
            "Player1 wins\n",
            "Do you want to play another game: no\n"
          ]
        }
      ]
    },
    {
      "cell_type": "code",
      "source": [
        "#Parking fee question\n",
        "\n",
        "flat = 5\n",
        "\n",
        "for t in range(1, 9, 1):\n",
        "  charge = flat + t * 2.5\n",
        "\n",
        "  if charge < 10:\n",
        "    charge = 10\n",
        "\n",
        "  elif charge > 20:\n",
        "    charge = 20\n",
        "  print(t,charge)"
      ],
      "metadata": {
        "colab": {
          "base_uri": "https://localhost:8080/"
        },
        "id": "ntO8jLl3DaOi",
        "outputId": "3a997351-736a-4480-9eb9-7c9ff805fe10"
      },
      "execution_count": null,
      "outputs": [
        {
          "output_type": "stream",
          "name": "stdout",
          "text": [
            "1 10\n",
            "2 10.0\n",
            "3 12.5\n",
            "4 15.0\n",
            "5 17.5\n",
            "6 20.0\n",
            "7 20\n",
            "8 20\n"
          ]
        }
      ]
    },
    {
      "cell_type": "code",
      "source": [
        "#Movie theater problem\n",
        "\n",
        "fixedCost = 200\n",
        "ticketPrice = 10\n",
        "standardAtendees = 20\n",
        "\n",
        "for ad in range(0, 201, 25):\n",
        "  profit = 10 * (standardAtendees + 2 * round(ad ** 0.5)) - fixedCost - ad\n",
        "  print(ad, profit)\n",
        "\n",
        "\n",
        "\n"
      ],
      "metadata": {
        "colab": {
          "base_uri": "https://localhost:8080/"
        },
        "id": "qZqeiVinKdHY",
        "outputId": "288e41b9-42e9-4c15-815f-78ff30cfcb49"
      },
      "execution_count": null,
      "outputs": [
        {
          "output_type": "stream",
          "name": "stdout",
          "text": [
            "0 0\n",
            "25 75\n",
            "50 90\n",
            "75 105\n",
            "100 100\n",
            "125 95\n",
            "150 90\n",
            "175 85\n",
            "200 80\n"
          ]
        }
      ]
    },
    {
      "cell_type": "code",
      "source": [
        "#Movie theater while loop\n",
        "\n",
        "fixedCost = 200\n",
        "ticketPrice = 10\n",
        "standardAtendees = 20\n",
        "\n",
        "ad = 0\n",
        "\n",
        "while ad < 201:\n",
        "  profit = 10 * (standardAtendees + 2 * round(ad ** 0.5)) - fixedCost - ad\n",
        "  print(ad, profit)\n",
        "  ad = ad + 25"
      ],
      "metadata": {
        "colab": {
          "base_uri": "https://localhost:8080/"
        },
        "id": "3TLM4NsxRv1w",
        "outputId": "e0b69d0d-10bc-496f-a9e8-f1ffb6b15912"
      },
      "execution_count": null,
      "outputs": [
        {
          "output_type": "stream",
          "name": "stdout",
          "text": [
            "0 0\n",
            "25 75\n",
            "50 90\n",
            "75 105\n",
            "100 100\n",
            "125 95\n",
            "150 90\n",
            "175 85\n",
            "200 80\n"
          ]
        }
      ]
    },
    {
      "cell_type": "code",
      "source": [
        "#Months2Numbers dictionary\n",
        "months = {}\n",
        "\n",
        "names = [\"Jan\", \"Feb\",\"Mar\", \"Apr\", \"May\", \"Jun\", \"Jul\", \"Aug\",\"Sep\", \"Oct\", \"Nov\",\"Dec\"]\n",
        "numbers = [1,2,3,4,5,6,7,8,9,10,11,12]\n",
        "\n",
        "for idx in range(len(numbers)):\n",
        "  months[numbers[idx]] = names[idx]\n",
        "months"
      ],
      "metadata": {
        "colab": {
          "base_uri": "https://localhost:8080/"
        },
        "id": "n2mnWwrtvZfP",
        "outputId": "1acd9312-e63c-4926-eec4-bb5166e49db1"
      },
      "execution_count": 3,
      "outputs": [
        {
          "output_type": "execute_result",
          "data": {
            "text/plain": [
              "{1: 'Jan',\n",
              " 2: 'Feb',\n",
              " 3: 'Mar',\n",
              " 4: 'Apr',\n",
              " 5: 'May',\n",
              " 6: 'Jun',\n",
              " 7: 'Jul',\n",
              " 8: 'Aug',\n",
              " 9: 'Sep',\n",
              " 10: 'Oct',\n",
              " 11: 'Nov',\n",
              " 12: 'Dec'}"
            ]
          },
          "metadata": {},
          "execution_count": 3
        }
      ]
    },
    {
      "cell_type": "code",
      "source": [
        "#program starts with empty list, user inputs number unitil the user gives 0 (0 is not in the list)\n",
        "#Input is a string so you need to cast to an int\n",
        "\n",
        "user_list = []\n",
        "\n",
        "while True:\n",
        "  n = int(input(\"Enter a number: \"))\n",
        "  if n == 0:\n",
        "    break\n",
        "  else:\n",
        "    user_list.append(n)\n",
        "    print(user_list)\n"
      ],
      "metadata": {
        "colab": {
          "base_uri": "https://localhost:8080/"
        },
        "id": "AU12G__nVob3",
        "outputId": "03243713-5247-4380-94d7-680d6f49c910"
      },
      "execution_count": null,
      "outputs": [
        {
          "name": "stdout",
          "output_type": "stream",
          "text": [
            "Enter a number: 1\n",
            "[1]\n",
            "Enter a number: 3\n",
            "[1, 3]\n",
            "Enter a number: 4\n",
            "[1, 3, 4]\n",
            "Enter a number: 5\n",
            "[1, 3, 4, 5]\n",
            "Enter a number: 0\n"
          ]
        }
      ]
    },
    {
      "cell_type": "code",
      "source": [
        "#Approach Professor Shows\n",
        "\n",
        "L = []\n",
        "item = int(input(\"Give a value: \"))\n",
        "\n",
        "while item != 0:\n",
        "  L.append(item)\n",
        "  item = int(input(\"Give another value: \"))\n",
        "print(L)\n",
        "\n"
      ],
      "metadata": {
        "colab": {
          "base_uri": "https://localhost:8080/"
        },
        "id": "39LBVNJ_aXur",
        "outputId": "df104db8-4565-4165-ceeb-858a0faf2cc3"
      },
      "execution_count": null,
      "outputs": [
        {
          "output_type": "stream",
          "name": "stdout",
          "text": [
            "Give a value: 1\n",
            "Give another value: 2\n",
            "Give another value: 3\n",
            "Give another value: 4\n",
            "Give another value: 0\n",
            "[1, 2, 3, 4]\n"
          ]
        }
      ]
    },
    {
      "cell_type": "code",
      "source": [
        "#Online class\n"
      ],
      "metadata": {
        "id": "h0x2EljEmwt_"
      },
      "execution_count": null,
      "outputs": []
    },
    {
      "cell_type": "code",
      "source": [
        "#House Hunting\n",
        "\n",
        "total_cost\n",
        "portion_down_payment = 0.25\n",
        "months = 0\n",
        "amount = 0\n",
        "\n",
        "\n",
        "month = a + 1\n",
        "if month % 6 = 0\n",
        "down = label * rate\n",
        "while amount <= down:\n"
      ],
      "metadata": {
        "id": "nY4JwfoZXAdK"
      },
      "execution_count": null,
      "outputs": []
    },
    {
      "cell_type": "code",
      "source": [
        "#Parking Garage - Initial Problem\n",
        "#A parking garage charges $5 plus $2.50 for each hour parked.\n",
        "#prompt for the number of hours parked and calculate and display the parking fee charge\n",
        "#define a function that calculates the parking fee given a number of hours. Use the signuature calcFree(hours)\n",
        "\n",
        "def calcFee(hours):\n",
        "  hours = flat + charge * time\n",
        "  return hours\n",
        "\n",
        "time = float(input(\"Enter hours parked: \"))\n",
        "flat = 5\n",
        "charge = 2.5\n",
        "\n",
        "hours = float(hours)\n",
        "\n",
        "total_fee = calcFee(hours)\n",
        "\n",
        "print(total_fee)"
      ],
      "metadata": {
        "colab": {
          "base_uri": "https://localhost:8080/"
        },
        "id": "peofZzcqMhej",
        "outputId": "9e53524a-4ea0-4c04-8550-e8ba0e1f29ac"
      },
      "execution_count": null,
      "outputs": [
        {
          "output_type": "stream",
          "name": "stdout",
          "text": [
            "Enter hours parked: 4\n",
            "15.0\n"
          ]
        }
      ]
    },
    {
      "cell_type": "code",
      "source": [
        "#in class solve\n",
        "\n",
        "def calcFee(hours):\n",
        "  fee = 5 + hours * 2.5\n",
        "  return fee\n",
        "\n",
        "h = int(input(\"Enter hours parked: \"))\n",
        "fee = calcFee(h)\n",
        "print(fee)\n"
      ],
      "metadata": {
        "colab": {
          "base_uri": "https://localhost:8080/"
        },
        "id": "ZU7_vU_jQL2t",
        "outputId": "5275c65b-bc0b-4dfe-9ba8-a61f9e306e6f"
      },
      "execution_count": null,
      "outputs": [
        {
          "output_type": "stream",
          "name": "stdout",
          "text": [
            "Enter hours parked: 4\n",
            "15.0\n"
          ]
        }
      ]
    },
    {
      "cell_type": "code",
      "source": [
        "#Parking Garage - Enhancements\n",
        "\n",
        "def calcFee(hours, decimals = 2):\n",
        "  fee = 5 + hours * 2.5\n",
        "  fee = round(fee, decimals)\n",
        "  return fee\n",
        "\n",
        "def displayFee(fee):\n",
        "  print(fee)\n",
        "\n",
        "h = int(input(\"Enter hours parked: \"))\n",
        "fee = calcFee(h)\n",
        "displayFee(fee)\n"
      ],
      "metadata": {
        "colab": {
          "base_uri": "https://localhost:8080/"
        },
        "id": "8OhU3Iv0RsgC",
        "outputId": "df20ff46-a1aa-4c19-811e-8c4345798e2a"
      },
      "execution_count": null,
      "outputs": [
        {
          "output_type": "stream",
          "name": "stdout",
          "text": [
            "Enter hours parked: 4\n",
            "15.0\n"
          ]
        }
      ]
    },
    {
      "cell_type": "code",
      "source": [
        "#consolidating the last three lines into one\n",
        "\n",
        "def calcFee(hours, decimals = 2):\n",
        "  fee = 5 + hours * 2.5\n",
        "  fee = round(fee, decimals)\n",
        "  return fee\n",
        "\n",
        "def displayFee(fee):\n",
        "  print(fee)\n",
        "\n",
        "display(calcFee(int(input('Enter number of hours: '))))"
      ],
      "metadata": {
        "colab": {
          "base_uri": "https://localhost:8080/",
          "height": 53
        },
        "id": "1Ba9cv4ZVYJI",
        "outputId": "e192ff7f-4962-4fdc-c6e7-ae31abcb1d54"
      },
      "execution_count": null,
      "outputs": [
        {
          "name": "stdout",
          "output_type": "stream",
          "text": [
            "Enter number of hours: 5\n"
          ]
        },
        {
          "output_type": "display_data",
          "data": {
            "text/plain": [
              "17.5"
            ]
          },
          "metadata": {}
        }
      ]
    },
    {
      "cell_type": "code",
      "source": [
        "#recursive function\n",
        "#you input 'hello' the function returns 'olleh'\n",
        "\n",
        "def rev(s):\n",
        "  if len(s) == 1:\n",
        "    return s\n",
        "  else:\n",
        "    return s[-1] + rev(s[:-1])\n",
        "\n",
        "rev('racecar')\n",
        "\n",
        "# also could have used\n",
        "#rev(s[1:]) + s[0]\n",
        "#s[-1] + rev(s[1:-1]) + s[0]"
      ],
      "metadata": {
        "colab": {
          "base_uri": "https://localhost:8080/",
          "height": 35
        },
        "id": "rqskVIZCUk3X",
        "outputId": "c679564c-61c4-404c-ba4c-d17714aa5b4b"
      },
      "execution_count": null,
      "outputs": [
        {
          "output_type": "execute_result",
          "data": {
            "text/plain": [
              "'racecar'"
            ],
            "application/vnd.google.colaboratory.intrinsic+json": {
              "type": "string"
            }
          },
          "metadata": {},
          "execution_count": 14
        }
      ]
    },
    {
      "cell_type": "code",
      "source": [
        "\"\"\"\n",
        "Function that claculates the weighted average of a list L, given weights W\n",
        "The function should handle the following exception type errirs\n",
        "- ZeroDivisionError (returns empty list)\n",
        "- TypeError (returns empty list)\n",
        "- any other unknown error (returns float('nan'))\n",
        "\"\"\"\n",
        "\n",
        "def wAve(L, w):\n",
        "  res = []\n",
        "  try:\n",
        "    for i in range(len(L)):\n",
        "      res.append(L[i] * w[i])\n",
        "    return sum(res) / sum(w)\n",
        "  except ZeroDivisionError:\n",
        "    print('Division by zero not allowed')\n",
        "    return []\n",
        "  except TypeError:\n",
        "    print('Non numerical objects found')\n",
        "    return []\n",
        "  except Exception as e:\n",
        "    print(f'Unknown error: {e}')\n",
        "    return float('nan')\n",
        "\n",
        "wAve([1,2,3],[1, 2, 5])\n"
      ],
      "metadata": {
        "colab": {
          "base_uri": "https://localhost:8080/"
        },
        "id": "plNR9TgetyE1",
        "outputId": "e22c2e5c-7f16-4bd1-8e81-d6d94061c3a5"
      },
      "execution_count": null,
      "outputs": [
        {
          "output_type": "execute_result",
          "data": {
            "text/plain": [
              "2.5"
            ]
          },
          "metadata": {},
          "execution_count": 16
        }
      ]
    },
    {
      "cell_type": "code",
      "source": [
        "#Define a class named Student. Student has two attributes name (str) and number(str)\n",
        "\n",
        "class Student:\n",
        "  def __init__(self, name, number):\n",
        "    self.name = name\n",
        "    self.number = number\n",
        "    self.courses = []\n",
        "\n",
        "  def enroll(self, course):\n",
        "    #item in sequence (Bool)\n",
        "    if course not in self.courses:\n",
        "      self.courses.append(course)\n",
        "    else:\n",
        "      print(f'You have already enrolled in {course}')\n",
        "\n",
        "  def get_courses(self):\n",
        "    return self.courses\n"
      ],
      "metadata": {
        "id": "LPu_1YVc1FgY"
      },
      "execution_count": null,
      "outputs": []
    },
    {
      "cell_type": "code",
      "source": [
        "s2 = Student(\"Clark Kent\", \"333\")\n",
        "s1 = Student(\"James Bond\", \"007\")"
      ],
      "metadata": {
        "id": "1bnNLIPypUxK"
      },
      "execution_count": null,
      "outputs": []
    },
    {
      "cell_type": "code",
      "source": [
        "s1.name"
      ],
      "metadata": {
        "id": "AChpUXSbq_xW",
        "outputId": "e373f5db-5d22-42df-a6e1-7b0a4706bc2a",
        "colab": {
          "base_uri": "https://localhost:8080/",
          "height": 35
        }
      },
      "execution_count": null,
      "outputs": [
        {
          "output_type": "execute_result",
          "data": {
            "text/plain": [
              "'James Bond'"
            ],
            "application/vnd.google.colaboratory.intrinsic+json": {
              "type": "string"
            }
          },
          "metadata": {},
          "execution_count": 15
        }
      ]
    },
    {
      "cell_type": "code",
      "source": [
        "s2 = Student('Terry McLaurin', '17')"
      ],
      "metadata": {
        "id": "mWnC5ZFQ-VJP"
      },
      "execution_count": null,
      "outputs": []
    },
    {
      "cell_type": "code",
      "source": [
        "s = Student('Bob', '123')"
      ],
      "metadata": {
        "id": "LbUi4WjsA4Yv"
      },
      "execution_count": null,
      "outputs": []
    },
    {
      "cell_type": "code",
      "source": [
        "s.enroll('ABC123')"
      ],
      "metadata": {
        "id": "nP27zYfcBBj5"
      },
      "execution_count": null,
      "outputs": []
    },
    {
      "cell_type": "code",
      "source": [
        "s.enroll('ABC456')"
      ],
      "metadata": {
        "id": "bJQoAJJ6BQcg"
      },
      "execution_count": null,
      "outputs": []
    },
    {
      "cell_type": "code",
      "source": [
        "s.get_courses()"
      ],
      "metadata": {
        "colab": {
          "base_uri": "https://localhost:8080/"
        },
        "id": "c5UlOC6uBOIq",
        "outputId": "6cafd16a-13c9-4380-cb1f-2512af96b3b7"
      },
      "execution_count": null,
      "outputs": [
        {
          "output_type": "execute_result",
          "data": {
            "text/plain": [
              "['ABC123', 'ABC456']"
            ]
          },
          "metadata": {},
          "execution_count": 16
        }
      ]
    }
  ]
}